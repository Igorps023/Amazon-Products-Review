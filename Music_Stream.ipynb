{
  "nbformat": 4,
  "nbformat_minor": 0,
  "metadata": {
    "colab": {
      "provenance": [],
      "authorship_tag": "ABX9TyM7jPWDLdKMDDIjauFj3kHF",
      "include_colab_link": true
    },
    "kernelspec": {
      "name": "python3",
      "display_name": "Python 3"
    },
    "language_info": {
      "name": "python"
    }
  },
  "cells": [
    {
      "cell_type": "markdown",
      "metadata": {
        "id": "view-in-github",
        "colab_type": "text"
      },
      "source": [
        "<a href=\"https://colab.research.google.com/github/Igorps023/Amazon-Products-Review/blob/main/Music_Stream.ipynb\" target=\"_parent\"><img src=\"https://colab.research.google.com/assets/colab-badge.svg\" alt=\"Open In Colab\"/></a>"
      ]
    },
    {
      "cell_type": "code",
      "execution_count": 23,
      "metadata": {
        "id": "5n7gYLzwvTTS"
      },
      "outputs": [],
      "source": []
    },
    {
      "cell_type": "markdown",
      "source": [
        "# ETL e Análise Exploratória Streaming de Música"
      ],
      "metadata": {
        "id": "AXmJN28l1w2T"
      }
    },
    {
      "cell_type": "code",
      "source": [],
      "metadata": {
        "id": "-N-Gw1QU13n4"
      },
      "execution_count": 23,
      "outputs": []
    },
    {
      "cell_type": "markdown",
      "source": [
        "# Código"
      ],
      "metadata": {
        "id": "cd4b9OsD171u"
      }
    },
    {
      "cell_type": "code",
      "source": [
        "# Desmontar o Google Drive (se já estiver montado)\n",
        "from google.colab import drive\n",
        "drive.flush_and_unmount()\n",
        "\n",
        "# Montar o Google Drive novamente\n",
        "drive.mount('/content/drive')"
      ],
      "metadata": {
        "colab": {
          "base_uri": "https://localhost:8080/"
        },
        "id": "d66nl_ad1-T8",
        "outputId": "802b3f4f-0e62-4fee-8a4b-53fd2288ba6e"
      },
      "execution_count": 24,
      "outputs": [
        {
          "output_type": "stream",
          "name": "stdout",
          "text": [
            "Mounted at /content/drive\n"
          ]
        }
      ]
    },
    {
      "cell_type": "code",
      "source": [
        "# instalar as dependências\n",
        "!apt-get install openjdk-8-jdk-headless -qq > /dev/null\n",
        "!wget -q https://archive.apache.org/dist/spark/spark-3.3.1//spark-3.3.1-bin-hadoop2.tgz\n",
        "!tar xf spark-3.3.1-bin-hadoop2.tgz\n",
        "!pip install -q findspark"
      ],
      "metadata": {
        "id": "SbfrSb7y1_mL"
      },
      "execution_count": 25,
      "outputs": []
    },
    {
      "cell_type": "code",
      "source": [
        "# configurar as variáveis de ambiente\n",
        "import os\n",
        "os.environ[\"JAVA_HOME\"] = \"/usr/lib/jvm/java-8-openjdk-amd64\"\n",
        "os.environ[\"SPARK_HOME\"] = \"/content/spark-3.3.1-bin-hadoop2.7\""
      ],
      "metadata": {
        "id": "pLiIGe7O2BeZ"
      },
      "execution_count": 26,
      "outputs": []
    },
    {
      "cell_type": "code",
      "source": [
        "#importando biblioteca para reconhecer o pyspark\n",
        "import findspark\n",
        "findspark.init('spark-3.3.1-bin-hadoop2')"
      ],
      "metadata": {
        "id": "K8ni6oIS2B9o"
      },
      "execution_count": 27,
      "outputs": []
    },
    {
      "cell_type": "code",
      "source": [
        "#escrevendo um arquivo no nosso Drive para testar o mapeamento\n",
        "with open('/content/drive/My Drive/Colab Notebooks/testando_mount.txt', 'w') as f:\n",
        "    f.write('content')"
      ],
      "metadata": {
        "id": "QFtOlK6-2DFS"
      },
      "execution_count": 28,
      "outputs": []
    },
    {
      "cell_type": "code",
      "source": [
        "#Criando nossa primeira Sessão com o SparkSession\n",
        "from pyspark.sql import SparkSession\n",
        "\n",
        "spark = SparkSession \\\n",
        "    .builder \\\n",
        "    .appName(\"Aplicação Pyspark Supply_Chain\") \\\n",
        "    .config('spark.ui.port', '4050') \\\n",
        "    .getOrCreate()\t"
      ],
      "metadata": {
        "id": "kWHc6bKP2Eej"
      },
      "execution_count": 29,
      "outputs": []
    },
    {
      "cell_type": "code",
      "source": [
        "spark"
      ],
      "metadata": {
        "colab": {
          "base_uri": "https://localhost:8080/",
          "height": 219
        },
        "id": "i2IiUGca2FhK",
        "outputId": "e1620309-1c5d-41fd-bdf3-bb99920e7310"
      },
      "execution_count": 30,
      "outputs": [
        {
          "output_type": "execute_result",
          "data": {
            "text/plain": [
              "<pyspark.sql.session.SparkSession at 0x7f22fd4abb50>"
            ],
            "text/html": [
              "\n",
              "            <div>\n",
              "                <p><b>SparkSession - in-memory</b></p>\n",
              "                \n",
              "        <div>\n",
              "            <p><b>SparkContext</b></p>\n",
              "\n",
              "            <p><a href=\"http://148e4d6769ed:4050\">Spark UI</a></p>\n",
              "\n",
              "            <dl>\n",
              "              <dt>Version</dt>\n",
              "                <dd><code>v3.3.1</code></dd>\n",
              "              <dt>Master</dt>\n",
              "                <dd><code>local[*]</code></dd>\n",
              "              <dt>AppName</dt>\n",
              "                <dd><code>Aplicação Pyspark Supply_Chain</code></dd>\n",
              "            </dl>\n",
              "        </div>\n",
              "        \n",
              "            </div>\n",
              "        "
            ]
          },
          "metadata": {},
          "execution_count": 30
        }
      ]
    },
    {
      "cell_type": "code",
      "source": [
        "#instalar extensão kaggle\n",
        "!pip install kaggle"
      ],
      "metadata": {
        "colab": {
          "base_uri": "https://localhost:8080/"
        },
        "id": "DR55FJkA2Gaw",
        "outputId": "88571b7e-3769-4e5e-c013-50f5c3ef0457"
      },
      "execution_count": 31,
      "outputs": [
        {
          "output_type": "stream",
          "name": "stdout",
          "text": [
            "Looking in indexes: https://pypi.org/simple, https://us-python.pkg.dev/colab-wheels/public/simple/\n",
            "Requirement already satisfied: kaggle in /usr/local/lib/python3.10/dist-packages (1.5.13)\n",
            "Requirement already satisfied: six>=1.10 in /usr/local/lib/python3.10/dist-packages (from kaggle) (1.16.0)\n",
            "Requirement already satisfied: certifi in /usr/local/lib/python3.10/dist-packages (from kaggle) (2022.12.7)\n",
            "Requirement already satisfied: python-dateutil in /usr/local/lib/python3.10/dist-packages (from kaggle) (2.8.2)\n",
            "Requirement already satisfied: requests in /usr/local/lib/python3.10/dist-packages (from kaggle) (2.27.1)\n",
            "Requirement already satisfied: tqdm in /usr/local/lib/python3.10/dist-packages (from kaggle) (4.65.0)\n",
            "Requirement already satisfied: python-slugify in /usr/local/lib/python3.10/dist-packages (from kaggle) (8.0.1)\n",
            "Requirement already satisfied: urllib3 in /usr/local/lib/python3.10/dist-packages (from kaggle) (1.26.15)\n",
            "Requirement already satisfied: text-unidecode>=1.3 in /usr/local/lib/python3.10/dist-packages (from python-slugify->kaggle) (1.3)\n",
            "Requirement already satisfied: charset-normalizer~=2.0.0 in /usr/local/lib/python3.10/dist-packages (from requests->kaggle) (2.0.12)\n",
            "Requirement already satisfied: idna<4,>=2.5 in /usr/local/lib/python3.10/dist-packages (from requests->kaggle) (3.4)\n"
          ]
        }
      ]
    },
    {
      "cell_type": "code",
      "source": [
        "import json \n",
        "import os\n",
        "from pathlib import Path\n",
        "\n",
        "# your api key\n",
        "api_key = {\n",
        "'username':\"igorpereirasilva\" ,\n",
        "'key':\"932cad93df082ec0266d416f7e420cdd\"}\n",
        "\n",
        "# uses pathlib Path\n",
        "kaggle_path = Path('/root/.kaggle')\n",
        "os.makedirs(kaggle_path, exist_ok=True)\n",
        "\n",
        "# opens file and dumps python dict to json object \n",
        "with open (kaggle_path/'kaggle.json', 'w') as handl:\n",
        "    json.dump(api_key,handl)\n",
        "\n",
        "os.chmod(kaggle_path/'kaggle.json', 600)  "
      ],
      "metadata": {
        "id": "B07A6ID12H6u"
      },
      "execution_count": 32,
      "outputs": []
    },
    {
      "cell_type": "code",
      "source": [
        "#importar biblioteca kaggle\n",
        "import kaggle"
      ],
      "metadata": {
        "id": "EGKibJTl2Kbd"
      },
      "execution_count": 33,
      "outputs": []
    },
    {
      "cell_type": "code",
      "source": [
        "#pathway até o dataset\n",
        "kaggle.api.authenticate()\n",
        "kaggle.api.dataset_download_files('undefinenull/million-song-dataset-spotify-lastfm', path='./data', unzip=True)\n",
        "\n",
        "#URL Dataset\n",
        "#https://www.kaggle.com/datasets/undefinenull/million-song-dataset-spotify-lastfm"
      ],
      "metadata": {
        "id": "H-DLd8cb2K89"
      },
      "execution_count": 34,
      "outputs": []
    },
    {
      "cell_type": "code",
      "source": [
        "# ler o arquivo JSON baixado do Kaggle\n",
        "music_info_raw = spark.read.csv(\"./data/Music Info.csv\", sep=\",\", header=True)\n",
        "listening_history_raw = spark.read.csv(\"./data/User Listening History.csv\", sep=\",\", header=True)"
      ],
      "metadata": {
        "id": "mNt2jxmI2YY2"
      },
      "execution_count": 35,
      "outputs": []
    },
    {
      "cell_type": "code",
      "source": [
        "music_info_raw"
      ],
      "metadata": {
        "colab": {
          "base_uri": "https://localhost:8080/"
        },
        "id": "v-qO74-v2hCP",
        "outputId": "251dc6b6-f54c-4bf7-f333-4659329815fe"
      },
      "execution_count": 36,
      "outputs": [
        {
          "output_type": "execute_result",
          "data": {
            "text/plain": [
              "DataFrame[track_id: string, name: string, artist: string, spotify_preview_url: string, spotify_id: string, tags: string, genre: string, year: string, duration_ms: string, danceability: string, energy: string, key: string, loudness: string, mode: string, speechiness: string, acousticness: string, instrumentalness: string, liveness: string, valence: string, tempo: string, time_signature: string]"
            ]
          },
          "metadata": {},
          "execution_count": 36
        }
      ]
    },
    {
      "cell_type": "code",
      "source": [
        "listening_history_raw"
      ],
      "metadata": {
        "colab": {
          "base_uri": "https://localhost:8080/"
        },
        "id": "tbEgYkcGbClU",
        "outputId": "6c9afb89-d4fc-4930-ec8b-2576076784cf"
      },
      "execution_count": 37,
      "outputs": [
        {
          "output_type": "execute_result",
          "data": {
            "text/plain": [
              "DataFrame[track_id: string, user_id: string, playcount: string]"
            ]
          },
          "metadata": {},
          "execution_count": 37
        }
      ]
    },
    {
      "cell_type": "code",
      "source": [
        "#numero colunas e linhas\n",
        "num_rows = music_info_raw.count()\n",
        "num_cols = len(music_info_raw.columns)"
      ],
      "metadata": {
        "id": "wC3iG29y3MwZ"
      },
      "execution_count": 38,
      "outputs": []
    },
    {
      "cell_type": "code",
      "source": [
        "print('Shape: ({}, {})'.format(num_rows, num_cols))"
      ],
      "metadata": {
        "colab": {
          "base_uri": "https://localhost:8080/"
        },
        "id": "pEAL9nKD3O1M",
        "outputId": "bef04f21-29c5-4e08-a7be-2b3a29e7bd58"
      },
      "execution_count": 39,
      "outputs": [
        {
          "output_type": "stream",
          "name": "stdout",
          "text": [
            "Shape: (50683, 21)\n"
          ]
        }
      ]
    },
    {
      "cell_type": "code",
      "source": [
        "#colunas\n",
        "music_info_raw.columns"
      ],
      "metadata": {
        "colab": {
          "base_uri": "https://localhost:8080/"
        },
        "id": "E1A3Ouqs3QKK",
        "outputId": "7020c701-e4d3-4b7c-c7f1-500108554b48"
      },
      "execution_count": 40,
      "outputs": [
        {
          "output_type": "execute_result",
          "data": {
            "text/plain": [
              "['track_id',\n",
              " 'name',\n",
              " 'artist',\n",
              " 'spotify_preview_url',\n",
              " 'spotify_id',\n",
              " 'tags',\n",
              " 'genre',\n",
              " 'year',\n",
              " 'duration_ms',\n",
              " 'danceability',\n",
              " 'energy',\n",
              " 'key',\n",
              " 'loudness',\n",
              " 'mode',\n",
              " 'speechiness',\n",
              " 'acousticness',\n",
              " 'instrumentalness',\n",
              " 'liveness',\n",
              " 'valence',\n",
              " 'tempo',\n",
              " 'time_signature']"
            ]
          },
          "metadata": {},
          "execution_count": 40
        }
      ]
    },
    {
      "cell_type": "code",
      "source": [
        "music_info_raw.show(20, truncate=False)"
      ],
      "metadata": {
        "colab": {
          "base_uri": "https://localhost:8080/"
        },
        "id": "G4NMZOlw3RH8",
        "outputId": "d0d66606-dfac-42f9-b679-f5d5f10aa564"
      },
      "execution_count": 41,
      "outputs": [
        {
          "output_type": "stream",
          "name": "stdout",
          "text": [
            "+------------------+-----------------+---------------------+-----------------------------------------------------------------------------------------------------------+----------------------+------------------------------------------------------------------------------------------------------+-----+----+-----------+------------+------+---+--------+----+-----------+------------+----------------+--------+-------+-------+--------------+\n",
            "|track_id          |name             |artist               |spotify_preview_url                                                                                        |spotify_id            |tags                                                                                                  |genre|year|duration_ms|danceability|energy|key|loudness|mode|speechiness|acousticness|instrumentalness|liveness|valence|tempo  |time_signature|\n",
            "+------------------+-----------------+---------------------+-----------------------------------------------------------------------------------------------------------+----------------------+------------------------------------------------------------------------------------------------------+-----+----+-----------+------------+------+---+--------+----+-----------+------------+----------------+--------+-------+-------+--------------+\n",
            "|TRIOREW128F424EAF0|Mr. Brightside   |The Killers          |https://p.scdn.co/mp3-preview/4d26180e6961fd46866cd9106936ea55dfcbaa75?cid=774b29d4f13844c495f206cafdad9c86|09ZQ5TmUG8TSL56n0knqrj|rock, alternative, indie, alternative_rock, indie_rock, 00s                                           |null |2004|222200     |0.355       |0.918 |1  |-4.36   |1   |0.0746     |0.00119     |0.0             |0.0971  |0.24   |148.114|4             |\n",
            "|TRRIVDJ128F429B0E8|Wonderwall       |Oasis                |https://p.scdn.co/mp3-preview/d012e536916c927bd6c8ced0dae75ee3b7715983?cid=774b29d4f13844c495f206cafdad9c86|06UfBBDISthj1ZJAtX4xjj|rock, alternative, indie, pop, alternative_rock, british, 90s, love, britpop                          |null |2006|258613     |0.409       |0.892 |2  |-4.373  |1   |0.0336     |0.000807    |0.0             |0.207   |0.651  |174.426|4             |\n",
            "|TROUVHL128F426C441|Come as You Are  |Nirvana              |https://p.scdn.co/mp3-preview/a1c11bb1cb231031eb20e5951a8bfb30503224e9?cid=774b29d4f13844c495f206cafdad9c86|0keNu0t0tqsWtExGM3nT1D|rock, alternative, alternative_rock, 90s, grunge                                                      |RnB  |1991|218920     |0.508       |0.826 |4  |-5.783  |0   |0.04       |0.000175    |0.000459        |0.0878  |0.543  |120.012|4             |\n",
            "|TRUEIND128F93038C4|Take Me Out      |Franz Ferdinand      |https://p.scdn.co/mp3-preview/399c401370438be449c2aebff816ba8c62559871?cid=774b29d4f13844c495f206cafdad9c86|0ancVQ9wEcHVd0RrGICTE4|rock, alternative, indie, alternative_rock, indie_rock, british, 00s, britpop                         |null |2004|237026     |0.279       |0.664 |9  |-8.851  |1   |0.0371     |0.000389    |0.000655        |0.133   |0.49   |104.56 |4             |\n",
            "|TRLNZBD128F935E4D8|Creep            |Radiohead            |https://p.scdn.co/mp3-preview/e7eb60e9466bc3a27299ea8803aadf4fa9cf795c?cid=774b29d4f13844c495f206cafdad9c86|01QoK9DA7VTeTSE3MNzp4I|rock, alternative, indie, alternative_rock, indie_rock, british, 90s, britpop                         |RnB  |2008|238640     |0.515       |0.43  |7  |-9.935  |1   |0.0369     |0.0102      |0.000141        |0.129   |0.104  |91.841 |4             |\n",
            "|TRUMISQ128F9340BEE|Somebody Told Me |The Killers          |https://p.scdn.co/mp3-preview/0d07673cfb46218a49c96eed639933f19b45cf9c?cid=774b29d4f13844c495f206cafdad9c86|0FNmIQ7u45Lhdn6RHhSLix|rock, alternative, indie, pop, alternative_rock, indie_rock                                           |null |2005|198480     |0.508       |0.979 |10 |-4.289  |0   |0.0847     |8.71e-05    |0.000643        |0.0641  |0.704  |138.03 |4             |\n",
            "|TRVCCWR128F9304A30|Viva la Vida     |Coldplay             |https://p.scdn.co/mp3-preview/ab747fed1bfab2ac2c8ef7a260822520f6345113?cid=774b29d4f13844c495f206cafdad9c86|08A1lZeyLMWH58DT6aYjnC|rock, alternative, indie, pop, alternative_rock, british, britpop                                     |null |2013|235384     |0.588       |0.806 |8  |-7.903  |1   |0.105      |0.153       |0.0             |0.0634  |0.52   |137.973|4             |\n",
            "|TRXOGZT128F424AD74|Karma Police     |Radiohead            |https://p.scdn.co/mp3-preview/5a09f5390e2862af1687f3671db3d6f84a813a45?cid=774b29d4f13844c495f206cafdad9c86|01puceOqImrzSfKDAcd1Ia|rock, alternative, indie, alternative_rock, indie_rock, british, 90s, britpop                         |null |1996|264066     |0.36        |0.505 |7  |-9.129  |1   |0.026      |0.0626      |9.22e-05        |0.172   |0.317  |74.807 |4             |\n",
            "|TRMZXEW128F9341FD5|The Scientist    |Coldplay             |https://p.scdn.co/mp3-preview/95cb9df1b056d759920b5e85ad7f9aff0a390671?cid=774b29d4f13844c495f206cafdad9c86|0GSSsT9szp0rJkBrYkzy6s|rock, alternative, indie, pop, alternative_rock, british, piano, love, beautiful, 00s, britpop, mellow|Rock |2007|311014     |0.566       |0.429 |5  |-7.826  |1   |0.0242     |0.715       |1.44e-05        |0.12    |0.173  |146.365|4             |\n",
            "|TRUJIIV12903CA8848|Clocks           |Coldplay             |https://p.scdn.co/mp3-preview/24c7fe858b234e3cb21872cd03ab44b669163fbb?cid=774b29d4f13844c495f206cafdad9c86|0BCPKOYdS2jbQ8iyB56Zns|rock, alternative, indie, pop, alternative_rock, british, chillout, piano, britpop                    |null |2002|307879     |0.577       |0.749 |5  |-7.215  |0   |0.0279     |0.599       |0.0115          |0.183   |0.255  |130.97 |4             |\n",
            "|TRIODZU128E078F3E2|Under the Bridge |Red Hot Chili Peppers|https://p.scdn.co/mp3-preview/90e41778392f27b6f7dd82db4c90916b3727aa6a?cid=774b29d4f13844c495f206cafdad9c86|06zh28PcYIFvNOAz5Wq2Xb|rock, alternative, alternative_rock, 90s, funk                                                        |Pop  |2003|265506     |0.554       |0.49  |4  |-8.046  |1   |0.0457     |0.0168      |0.000534        |0.136   |0.513  |84.275 |4             |\n",
            "|TRURKLR12903CEBD47|Seven Nation Army|The White Stripes    |https://p.scdn.co/mp3-preview/0cf1b44cf203258ea446560c62e891b887262024?cid=774b29d4f13844c495f206cafdad9c86|025zyxycElQVXwZSzrvJQr|rock, alternative, indie, alternative_rock, indie_rock                                                |null |2008|232680     |0.759       |0.465 |4  |-7.602  |0   |0.0806     |0.00662     |0.288           |0.257   |0.305  |124.049|4             |\n",
            "|TRYEZGE128F92D04C8|Feel Good Inc.   |Gorillaz             |https://p.scdn.co/mp3-preview/7388c425022ced92b1caa7f73bcf0cb3080aee47?cid=774b29d4f13844c495f206cafdad9c86|09xrHi86kLkEIzDLZiHNnv|rock, electronic, alternative, indie, pop, alternative_rock, dance, british, hip_hop, trip_hop        |RnB  |2010|223106     |0.809       |0.72  |6  |-7.776  |1   |0.136      |0.0337      |0.00141         |0.826   |0.832  |138.556|4             |\n",
            "|TRUENYK128F4274057|Chop Suey!       |System of a Down     |https://p.scdn.co/mp3-preview/cd2a1f9fd7619bdae4e2e718b11d5bb054a3d677?cid=774b29d4f13844c495f206cafdad9c86|0EIIqshB4doby2sMQpeqGN|rock, alternative, metal, alternative_rock, hard_rock, nu_metal                                       |Metal|2008|210480     |0.42        |0.925 |7  |-4.217  |0   |0.12       |0.000363    |0.002           |0.1     |0.322  |127.422|4             |\n",
            "|TRXNTMB12903CA884A|Fix You          |Coldplay             |https://p.scdn.co/mp3-preview/b1640815319b2df5ddfac27a28f016319a281468?cid=774b29d4f13844c495f206cafdad9c86|0Kk4dfh9Kq7Okg4T58IBVR|rock, alternative, indie, pop, alternative_rock, british, love, beautiful, britpop, mellow            |null |2016|295826     |0.213       |0.416 |3  |-8.683  |1   |0.0336     |0.164       |0.00168         |0.11    |0.129  |138.478|4             |\n",
            "|TRREXPI128E078EE14|Lithium          |Nirvana              |https://p.scdn.co/mp3-preview/e346fce09e0dc8858d279bb42d5bf41bd9e603bb?cid=774b29d4f13844c495f206cafdad9c86|07hCnHx9DhqZg5eN6RvCbd|rock, alternative, alternative_rock, 90s, grunge                                                      |null |1991|257053     |0.678       |0.656 |7  |-6.41   |1   |0.0381     |0.00174     |0.0             |0.0631  |0.485  |123.207|4             |\n",
            "|TRAJBOD128F9303DCD|Song 2           |Blur                 |https://p.scdn.co/mp3-preview/183c0855e94b58dcb267e2b0721d4a3c99260acf?cid=774b29d4f13844c495f206cafdad9c86|0g0VHJLFYFN3yHZImyQhPA|rock, alternative, indie, alternative_rock, indie_rock, british, 90s, britpop                         |null |2012|122080     |0.676       |0.723 |8  |-5.127  |1   |0.131      |0.00227     |0.0199          |0.0897  |0.779  |129.7  |4             |\n",
            "|TRFNTDZ128F426B34D|In the End       |Linkin Park          |https://p.scdn.co/mp3-preview/6ce8bcf317e8c562f348ea22c846846b5b70e8d9?cid=774b29d4f13844c495f206cafdad9c86|138JuTi1U3WIROalXod9FB|rock, alternative, metal, alternative_rock, nu_metal                                                  |null |2000|216933     |0.542       |0.853 |3  |-6.407  |0   |0.0498     |0.0103      |0.0             |0.108   |0.37   |105.256|4             |\n",
            "|TRCSXPV128F425E2F7|Chasing Cars     |Snow Patrol          |https://p.scdn.co/mp3-preview/f6718903c52c507068a15158552eab1f4d8da28f?cid=774b29d4f13844c495f206cafdad9c86|01Jvw9zNg5LM2RF8WNfnLy|rock, alternative, indie, pop, alternative_rock, indie_rock, british, love, beautiful, britpop, mellow|null |2006|265573     |0.558       |0.568 |9  |-5.731  |1   |0.0267     |0.211       |5e-05           |0.104   |0.125  |104.0  |4             |\n",
            "|TRDKPRZ128F92F37EA|Otherside        |Red Hot Chili Peppers|https://p.scdn.co/mp3-preview/fe298962db3331e8523c714490c678be5313809a?cid=774b29d4f13844c495f206cafdad9c86|0lfH1VLbnBywPOmIMit60M|rock, alternative, alternative_rock, 90s, funk                                                        |null |2014|255400     |0.459       |0.795 |0  |-3.265  |1   |0.0575     |0.00316     |0.000202        |0.0751  |0.513  |123.23 |4             |\n",
            "+------------------+-----------------+---------------------+-----------------------------------------------------------------------------------------------------------+----------------------+------------------------------------------------------------------------------------------------------+-----+----+-----------+------------+------+---+--------+----+-----------+------------+----------------+--------+-------+-------+--------------+\n",
            "only showing top 20 rows\n",
            "\n"
          ]
        }
      ]
    },
    {
      "cell_type": "code",
      "source": [
        "listening_history_raw.sort(\"user_id\").show(20, truncate=False)"
      ],
      "metadata": {
        "id": "zYsx21zu348d",
        "colab": {
          "base_uri": "https://localhost:8080/"
        },
        "outputId": "f13ce6a8-06d4-406b-ff83-4b28ceef8cd8"
      },
      "execution_count": 42,
      "outputs": [
        {
          "output_type": "stream",
          "name": "stdout",
          "text": [
            "+------------------+----------------------------------------+---------+\n",
            "|track_id          |user_id                                 |playcount|\n",
            "+------------------+----------------------------------------+---------+\n",
            "|TRQEBOU128F425D087|00000b722001882066dff9d2da8a775658053ea0|1        |\n",
            "|TRBCDMC128F1452976|00001638d6189236866af9bbf309ae6c2347ffdc|1        |\n",
            "|TRHVDTF128F428D64C|0000175652312d12576d9e6b84f600caa24c4715|1        |\n",
            "|TREZYWT128F93191B7|00001cf0dce3fb22b0df0f3a1d9cd21e38385372|2        |\n",
            "|TRTPXAP12903CA1A14|00001cf0dce3fb22b0df0f3a1d9cd21e38385372|2        |\n",
            "|TRZPDFG128F92FDEF5|00001cf0dce3fb22b0df0f3a1d9cd21e38385372|2        |\n",
            "|TRVRIBZ128F426BF71|00001cf0dce3fb22b0df0f3a1d9cd21e38385372|1        |\n",
            "|TRGEIDA128F933B4B8|00001cf0dce3fb22b0df0f3a1d9cd21e38385372|1        |\n",
            "|TRPUGUW128F426BF6F|00001cf0dce3fb22b0df0f3a1d9cd21e38385372|1        |\n",
            "|TRKABMK128F426BF72|00001cf0dce3fb22b0df0f3a1d9cd21e38385372|2        |\n",
            "|TRIYKXW128F92FDF08|00001cf0dce3fb22b0df0f3a1d9cd21e38385372|2        |\n",
            "|TRODQGV128F425FD7E|0000267bde1b3a70ea75cf2b2d216cb828e3202b|1        |\n",
            "|TRIVDZY12903CC7671|0000267bde1b3a70ea75cf2b2d216cb828e3202b|1        |\n",
            "|TRJGDTG128F421CE22|0000267bde1b3a70ea75cf2b2d216cb828e3202b|1        |\n",
            "|TRORDNM128F427560D|0000267bde1b3a70ea75cf2b2d216cb828e3202b|1        |\n",
            "|TRSMXVB128F42858BC|0000267bde1b3a70ea75cf2b2d216cb828e3202b|1        |\n",
            "|TRXVQAJ128F9316B65|0000267bde1b3a70ea75cf2b2d216cb828e3202b|1        |\n",
            "|TREXNUE128F92FFC12|0000267bde1b3a70ea75cf2b2d216cb828e3202b|1        |\n",
            "|TRLTISM128F424FEFB|0000267bde1b3a70ea75cf2b2d216cb828e3202b|1        |\n",
            "|TRPXIWX128F429831F|0000267bde1b3a70ea75cf2b2d216cb828e3202b|1        |\n",
            "+------------------+----------------------------------------+---------+\n",
            "only showing top 20 rows\n",
            "\n"
          ]
        }
      ]
    },
    {
      "cell_type": "code",
      "source": [
        "listening_history_raw.columns"
      ],
      "metadata": {
        "colab": {
          "base_uri": "https://localhost:8080/"
        },
        "id": "-S6jnarST1nZ",
        "outputId": "07d27f8b-f9ca-4327-d280-ce6c3ebfc512"
      },
      "execution_count": 43,
      "outputs": [
        {
          "output_type": "execute_result",
          "data": {
            "text/plain": [
              "['track_id', 'user_id', 'playcount']"
            ]
          },
          "metadata": {},
          "execution_count": 43
        }
      ]
    }
  ]
}